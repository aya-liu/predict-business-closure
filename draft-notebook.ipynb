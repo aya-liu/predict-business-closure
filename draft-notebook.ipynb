{
 "cells": [
  {
   "cell_type": "code",
   "execution_count": 1,
   "metadata": {},
   "outputs": [],
   "source": [
    "%load_ext autoreload\n",
    "%autoreload 2"
   ]
  },
  {
   "cell_type": "code",
   "execution_count": 435,
   "metadata": {},
   "outputs": [],
   "source": [
    "import os\n",
    "import geopandas as gpd\n",
    "import pandas as pd\n",
    "import scipy\n",
    "from shapely.geometry import shape\n",
    "from dateutil import parser\n",
    "from datetime import timedelta\n",
    "import pickle\n",
    "import missingno as msno\n",
    "import matplotlib.pyplot as plt\n",
    "\n",
    "import data_preprocess as prep\n",
    "import data_explore as exp\n",
    "import pipeline as pp\n",
    "\n",
    "pd.options.display.max_columns = 999"
   ]
  },
  {
   "cell_type": "code",
   "execution_count": 107,
   "metadata": {},
   "outputs": [],
   "source": [
    "SDT = \"LICENSE TERM START DATE\"\n",
    "EDT = 'LICENSE TERM EXPIRATION DATE'\n",
    "IDT = 'DATE ISSUED'"
   ]
  },
  {
   "cell_type": "markdown",
   "metadata": {},
   "source": [
    "**All functions defined in this notebook are dataset specific and should go into a file `data_preprocessing.py` to import into pipeline**"
   ]
  },
  {
   "cell_type": "markdown",
   "metadata": {},
   "source": [
    "# Load"
   ]
  },
  {
   "cell_type": "markdown",
   "metadata": {},
   "source": [
    "If you are loading license data for the first time"
   ]
  },
  {
   "cell_type": "code",
   "execution_count": 7,
   "metadata": {},
   "outputs": [
    {
     "name": "stderr",
     "output_type": "stream",
     "text": [
      "/usr/local/anaconda3/envs/mlpp/lib/python3.7/site-packages/IPython/core/interactiveshell.py:3049: DtypeWarning: Columns (9,16,17) have mixed types. Specify dtype option on import or set low_memory=False.\n",
      "  interactivity=interactivity, compiler=compiler, result=result)\n"
     ]
    }
   ],
   "source": [
    "##### LOAD LICENSE DATA FOR THE FIRST TIME\n",
    "# make sure these column aren't numerical\n",
    "lcs_dtype = {\n",
    "    'LICENSE ID': str,\n",
    "    'ACCOUNT NUMBER': str,\n",
    "    'WARD': str,\n",
    "    'PRECINCT': str,\n",
    "    'POLICE DISTRICT': str,\n",
    "    'LICENSE CODE': str,\n",
    "    'LICENSE NUMBER': str,\n",
    "    'SSA': str\n",
    "}\n",
    "\n",
    "# date columns to parse\n",
    "lcs_dates = [\n",
    "    'APPLICATION CREATED DATE', \n",
    "    'APPLICATION REQUIREMENTS COMPLETE', \n",
    "    'PAYMENT DATE',\n",
    "    'LICENSE TERM START DATE',\n",
    "    'LICENSE TERM EXPIRATION DATE',\n",
    "    'LICENSE APPROVED FOR ISSUANCE',\n",
    "    'DATE ISSUED',\n",
    "    'LICENSE STATUS CHANGE DATE'\n",
    "]\n",
    "# load from csv\n",
    "lcs = pd.read_csv('data/Business_Licenses.csv', dtype=lcs_dtype, parse_dates=lcs_dates)"
   ]
  },
  {
   "cell_type": "code",
   "execution_count": 42,
   "metadata": {},
   "outputs": [],
   "source": [
    "def gdf_from_latlong(df, lat, long):\n",
    "    gdf = gpd.GeoDataFrame(df, geometry=gpd.points_from_xy(df[long], df[lat]))\n",
    "    return gdf"
   ]
  },
  {
   "cell_type": "code",
   "execution_count": 18,
   "metadata": {},
   "outputs": [],
   "source": [
    "lcs = gdf_from_latlong(lcs, lat='LATITUDE', long='LONGITUDE')"
   ]
  },
  {
   "cell_type": "code",
   "execution_count": 19,
   "metadata": {},
   "outputs": [],
   "source": [
    "# save licenses gdf for later \n",
    "pickle.dump(lcs, open(\"pickle/lcs\", \"wb\" ))"
   ]
  },
  {
   "cell_type": "markdown",
   "metadata": {},
   "source": [
    "If you have loaded and pickled the data before"
   ]
  },
  {
   "cell_type": "code",
   "execution_count": 176,
   "metadata": {},
   "outputs": [],
   "source": [
    "##### LOAD LICENSE DATA SUBSEQEUNTLY\n",
    "lcs_raw = pickle.load(open(\"pickle/lcs\", \"rb\" ))"
   ]
  },
  {
   "cell_type": "code",
   "execution_count": 178,
   "metadata": {
    "scrolled": true
   },
   "outputs": [
    {
     "data": {
      "text/plain": [
       "968908"
      ]
     },
     "execution_count": 178,
     "metadata": {},
     "output_type": "execute_result"
    }
   ],
   "source": [
    "len(lcs_raw)"
   ]
  },
  {
   "cell_type": "code",
   "execution_count": 179,
   "metadata": {
    "scrolled": true
   },
   "outputs": [
    {
     "data": {
      "text/plain": [
       "ID                                           object\n",
       "LICENSE ID                                   object\n",
       "ACCOUNT NUMBER                               object\n",
       "SITE NUMBER                                   int64\n",
       "LEGAL NAME                                   object\n",
       "DOING BUSINESS AS NAME                       object\n",
       "ADDRESS                                      object\n",
       "CITY                                         object\n",
       "STATE                                        object\n",
       "ZIP CODE                                     object\n",
       "WARD                                         object\n",
       "PRECINCT                                     object\n",
       "WARD PRECINCT                                object\n",
       "POLICE DISTRICT                              object\n",
       "LICENSE CODE                                 object\n",
       "LICENSE DESCRIPTION                          object\n",
       "BUSINESS ACTIVITY ID                         object\n",
       "BUSINESS ACTIVITY                            object\n",
       "LICENSE NUMBER                               object\n",
       "APPLICATION TYPE                             object\n",
       "APPLICATION CREATED DATE             datetime64[ns]\n",
       "APPLICATION REQUIREMENTS COMPLETE    datetime64[ns]\n",
       "PAYMENT DATE                         datetime64[ns]\n",
       "CONDITIONAL APPROVAL                         object\n",
       "LICENSE TERM START DATE              datetime64[ns]\n",
       "LICENSE TERM EXPIRATION DATE         datetime64[ns]\n",
       "LICENSE APPROVED FOR ISSUANCE        datetime64[ns]\n",
       "DATE ISSUED                          datetime64[ns]\n",
       "LICENSE STATUS                               object\n",
       "LICENSE STATUS CHANGE DATE           datetime64[ns]\n",
       "SSA                                          object\n",
       "LATITUDE                                    float64\n",
       "LONGITUDE                                   float64\n",
       "LOCATION                                     object\n",
       "geometry                                     object\n",
       "dtype: object"
      ]
     },
     "execution_count": 179,
     "metadata": {},
     "output_type": "execute_result"
    }
   ],
   "source": [
    "lcs_raw.dtypes"
   ]
  },
  {
   "cell_type": "code",
   "execution_count": 117,
   "metadata": {
    "scrolled": true
   },
   "outputs": [
    {
     "name": "stdout",
     "output_type": "stream",
     "text": [
      "########\n",
      "Number and percentage of missing data in each column:\n",
      "\n"
     ]
    },
    {
     "data": {
      "text/html": [
       "<div>\n",
       "<style scoped>\n",
       "    .dataframe tbody tr th:only-of-type {\n",
       "        vertical-align: middle;\n",
       "    }\n",
       "\n",
       "    .dataframe tbody tr th {\n",
       "        vertical-align: top;\n",
       "    }\n",
       "\n",
       "    .dataframe thead th {\n",
       "        text-align: right;\n",
       "    }\n",
       "</style>\n",
       "<table border=\"1\" class=\"dataframe\">\n",
       "  <thead>\n",
       "    <tr style=\"text-align: right;\">\n",
       "      <th></th>\n",
       "      <th>num_NA</th>\n",
       "      <th>perc_NA</th>\n",
       "    </tr>\n",
       "  </thead>\n",
       "  <tbody>\n",
       "    <tr>\n",
       "      <th>LEGAL NAME</th>\n",
       "      <td>4</td>\n",
       "      <td>0.000004</td>\n",
       "    </tr>\n",
       "    <tr>\n",
       "      <th>DOING BUSINESS AS NAME</th>\n",
       "      <td>60</td>\n",
       "      <td>0.000062</td>\n",
       "    </tr>\n",
       "    <tr>\n",
       "      <th>CITY</th>\n",
       "      <td>5</td>\n",
       "      <td>0.000005</td>\n",
       "    </tr>\n",
       "    <tr>\n",
       "      <th>STATE</th>\n",
       "      <td>12</td>\n",
       "      <td>0.000012</td>\n",
       "    </tr>\n",
       "    <tr>\n",
       "      <th>ZIP CODE</th>\n",
       "      <td>413</td>\n",
       "      <td>0.000426</td>\n",
       "    </tr>\n",
       "    <tr>\n",
       "      <th>WARD</th>\n",
       "      <td>71402</td>\n",
       "      <td>0.073693</td>\n",
       "    </tr>\n",
       "    <tr>\n",
       "      <th>PRECINCT</th>\n",
       "      <td>101259</td>\n",
       "      <td>0.104508</td>\n",
       "    </tr>\n",
       "    <tr>\n",
       "      <th>WARD PRECINCT</th>\n",
       "      <td>71229</td>\n",
       "      <td>0.073515</td>\n",
       "    </tr>\n",
       "    <tr>\n",
       "      <th>POLICE DISTRICT</th>\n",
       "      <td>95892</td>\n",
       "      <td>0.098969</td>\n",
       "    </tr>\n",
       "    <tr>\n",
       "      <th>BUSINESS ACTIVITY ID</th>\n",
       "      <td>531476</td>\n",
       "      <td>0.548531</td>\n",
       "    </tr>\n",
       "    <tr>\n",
       "      <th>BUSINESS ACTIVITY</th>\n",
       "      <td>531476</td>\n",
       "      <td>0.548531</td>\n",
       "    </tr>\n",
       "    <tr>\n",
       "      <th>LICENSE NUMBER</th>\n",
       "      <td>1</td>\n",
       "      <td>0.000001</td>\n",
       "    </tr>\n",
       "    <tr>\n",
       "      <th>APPLICATION CREATED DATE</th>\n",
       "      <td>744099</td>\n",
       "      <td>0.767977</td>\n",
       "    </tr>\n",
       "    <tr>\n",
       "      <th>APPLICATION REQUIREMENTS COMPLETE</th>\n",
       "      <td>18305</td>\n",
       "      <td>0.018892</td>\n",
       "    </tr>\n",
       "    <tr>\n",
       "      <th>PAYMENT DATE</th>\n",
       "      <td>21956</td>\n",
       "      <td>0.022661</td>\n",
       "    </tr>\n",
       "    <tr>\n",
       "      <th>LICENSE TERM START DATE</th>\n",
       "      <td>2682</td>\n",
       "      <td>0.002768</td>\n",
       "    </tr>\n",
       "    <tr>\n",
       "      <th>LICENSE TERM EXPIRATION DATE</th>\n",
       "      <td>89</td>\n",
       "      <td>0.000092</td>\n",
       "    </tr>\n",
       "    <tr>\n",
       "      <th>LICENSE APPROVED FOR ISSUANCE</th>\n",
       "      <td>47769</td>\n",
       "      <td>0.049302</td>\n",
       "    </tr>\n",
       "    <tr>\n",
       "      <th>LICENSE STATUS CHANGE DATE</th>\n",
       "      <td>902735</td>\n",
       "      <td>0.931704</td>\n",
       "    </tr>\n",
       "    <tr>\n",
       "      <th>SSA</th>\n",
       "      <td>717262</td>\n",
       "      <td>0.740279</td>\n",
       "    </tr>\n",
       "    <tr>\n",
       "      <th>LATITUDE</th>\n",
       "      <td>74368</td>\n",
       "      <td>0.076754</td>\n",
       "    </tr>\n",
       "    <tr>\n",
       "      <th>LONGITUDE</th>\n",
       "      <td>74368</td>\n",
       "      <td>0.076754</td>\n",
       "    </tr>\n",
       "    <tr>\n",
       "      <th>LOCATION</th>\n",
       "      <td>74368</td>\n",
       "      <td>0.076754</td>\n",
       "    </tr>\n",
       "  </tbody>\n",
       "</table>\n",
       "</div>"
      ],
      "text/plain": [
       "                                   num_NA   perc_NA\n",
       "LEGAL NAME                              4  0.000004\n",
       "DOING BUSINESS AS NAME                 60  0.000062\n",
       "CITY                                    5  0.000005\n",
       "STATE                                  12  0.000012\n",
       "ZIP CODE                              413  0.000426\n",
       "WARD                                71402  0.073693\n",
       "PRECINCT                           101259  0.104508\n",
       "WARD PRECINCT                       71229  0.073515\n",
       "POLICE DISTRICT                     95892  0.098969\n",
       "BUSINESS ACTIVITY ID               531476  0.548531\n",
       "BUSINESS ACTIVITY                  531476  0.548531\n",
       "LICENSE NUMBER                          1  0.000001\n",
       "APPLICATION CREATED DATE           744099  0.767977\n",
       "APPLICATION REQUIREMENTS COMPLETE   18305  0.018892\n",
       "PAYMENT DATE                        21956  0.022661\n",
       "LICENSE TERM START DATE              2682  0.002768\n",
       "LICENSE TERM EXPIRATION DATE           89  0.000092\n",
       "LICENSE APPROVED FOR ISSUANCE       47769  0.049302\n",
       "LICENSE STATUS CHANGE DATE         902735  0.931704\n",
       "SSA                                717262  0.740279\n",
       "LATITUDE                            74368  0.076754\n",
       "LONGITUDE                           74368  0.076754\n",
       "LOCATION                            74368  0.076754"
      ]
     },
     "metadata": {},
     "output_type": "display_data"
    },
    {
     "data": {
      "image/png": "[encoded data removed]",
      "text/plain": [
       "<Figure size 1800x720 with 2 Axes>"
      ]
     },
     "metadata": {
      "needs_background": "light"
     },
     "output_type": "display_data"
    }
   ],
   "source": [
    "# Missing\n",
    "exp.summarize_missing(lcs_raw)"
   ]
  },
  {
   "cell_type": "markdown",
   "metadata": {},
   "source": [
    "basic cleaning:"
   ]
  },
  {
   "cell_type": "code",
   "execution_count": 249,
   "metadata": {},
   "outputs": [],
   "source": [
    "lcs = lcs_raw.copy()"
   ]
  },
  {
   "cell_type": "code",
   "execution_count": 250,
   "metadata": {},
   "outputs": [],
   "source": [
    "# add business id: account_number-site_number\n",
    "lcs['business_id'] = lcs['ACCOUNT NUMBER'] + \"-\" + lcs['SITE NUMBER'].map(str)"
   ]
  },
  {
   "cell_type": "code",
   "execution_count": 251,
   "metadata": {
    "scrolled": true
   },
   "outputs": [
    {
     "data": {
      "text/plain": [
       "APPLICATION TYPE\n",
       "C_CAPA      25\n",
       "C_EXPA      10\n",
       "C_LOC       58\n",
       "C_SBA        4\n",
       "ISSUE     2403\n",
       "RENEW      182\n",
       "dtype: int64"
      ]
     },
     "execution_count": 251,
     "metadata": {},
     "output_type": "execute_result"
    }
   ],
   "source": [
    "# start date NA rows - mostly ISSUE\n",
    "lcs_raw[lcs_raw[SDT].isna()].groupby('APPLICATION TYPE').size()"
   ]
  },
  {
   "cell_type": "code",
   "execution_count": 252,
   "metadata": {
    "scrolled": false
   },
   "outputs": [],
   "source": [
    "# No start date, issuance: start date = issue date\n",
    "nastart_issue = lcs[SDT].isna() & (lcs['APPLICATION TYPE'] == 'ISSUE')\n",
    "lcs.loc[nastart_issue, SDT] = lcs.loc[nastart_issue, IDT]"
   ]
  },
  {
   "cell_type": "code",
   "execution_count": 253,
   "metadata": {},
   "outputs": [],
   "source": [
    "# No start date, other: drop\n",
    "lcs = lcs.dropna(subset=[SDT])"
   ]
  },
  {
   "cell_type": "code",
   "execution_count": 254,
   "metadata": {},
   "outputs": [],
   "source": [
    "# drop rows with negative license length (5a310 rows)\n",
    "lcs = lcs[(lcs[EDT] - lcs[SDT]) > timedelta(days=0)]"
   ]
  },
  {
   "cell_type": "code",
   "execution_count": 255,
   "metadata": {},
   "outputs": [
    {
     "data": {
      "text/plain": [
       "3752"
      ]
     },
     "execution_count": 255,
     "metadata": {},
     "output_type": "execute_result"
    }
   ],
   "source": [
    "# total num of rows dropped\n",
    "len(lcs_raw) - len(lcs)"
   ]
  },
  {
   "cell_type": "code",
   "execution_count": 430,
   "metadata": {},
   "outputs": [
    {
     "data": {
      "text/plain": [
       "73944"
      ]
     },
     "execution_count": 430,
     "metadata": {},
     "output_type": "execute_result"
    }
   ],
   "source": [
    "# Do we map neighborhoods? If so, we have to drop this many rows b/c they don't have lat longs\n",
    "len(lcs[lcs.geometry.isna()])"
   ]
  },
  {
   "cell_type": "code",
   "execution_count": 424,
   "metadata": {},
   "outputs": [],
   "source": [
    "def add_zillow_nbh_id(gdf, nbh_filepath):\n",
    "    '''\n",
    "    Add neighborhood ID (Zillow) \n",
    "\n",
    "    Input:\n",
    "        gdf: (GeoDataFrame) \n",
    "        nbh_filepath: (str) filename of the zillow region shp file  \n",
    "    Returns: (GeoDataFrame)\n",
    "    '''\n",
    "    nbh = gpd.read_file(nbh_filepath)\n",
    "    nbh.crs = {'init': 'epsg:4326'}\n",
    "    gdf.crs = {'init': 'epsg:4326'}\n",
    "\n",
    "    joined = gpd.sjoin(gdf, nbh, how=\"left\", op='intersects')\n",
    "    # drop unmatches and extra columns\n",
    "    joined.dropna(axis=0, subset=[\"index_right\"], inplace=True)\n",
    "    joined.drop('index_right', axis=1, inplace=True)\n",
    "    \n",
    "    return joined"
   ]
  },
  {
   "cell_type": "code",
   "execution_count": 256,
   "metadata": {},
   "outputs": [],
   "source": [
    "# sort data by license start date\n",
    "lcs.sort_values(by=SDT, inplace=True)"
   ]
  },
  {
   "cell_type": "code",
   "execution_count": 257,
   "metadata": {
    "scrolled": true
   },
   "outputs": [
    {
     "data": {
      "text/html": [
       "<div>\n",
       "<style scoped>\n",
       "    .dataframe tbody tr th:only-of-type {\n",
       "        vertical-align: middle;\n",
       "    }\n",
       "\n",
       "    .dataframe tbody tr th {\n",
       "        vertical-align: top;\n",
       "    }\n",
       "\n",
       "    .dataframe thead th {\n",
       "        text-align: right;\n",
       "    }\n",
       "</style>\n",
       "<table border=\"1\" class=\"dataframe\">\n",
       "  <thead>\n",
       "    <tr style=\"text-align: right;\">\n",
       "      <th></th>\n",
       "      <th>ID</th>\n",
       "      <th>LICENSE ID</th>\n",
       "      <th>ACCOUNT NUMBER</th>\n",
       "      <th>SITE NUMBER</th>\n",
       "      <th>LEGAL NAME</th>\n",
       "      <th>DOING BUSINESS AS NAME</th>\n",
       "      <th>ADDRESS</th>\n",
       "      <th>CITY</th>\n",
       "      <th>STATE</th>\n",
       "      <th>ZIP CODE</th>\n",
       "      <th>WARD</th>\n",
       "      <th>PRECINCT</th>\n",
       "      <th>WARD PRECINCT</th>\n",
       "      <th>POLICE DISTRICT</th>\n",
       "      <th>LICENSE CODE</th>\n",
       "      <th>LICENSE DESCRIPTION</th>\n",
       "      <th>BUSINESS ACTIVITY ID</th>\n",
       "      <th>BUSINESS ACTIVITY</th>\n",
       "      <th>LICENSE NUMBER</th>\n",
       "      <th>APPLICATION TYPE</th>\n",
       "      <th>APPLICATION CREATED DATE</th>\n",
       "      <th>APPLICATION REQUIREMENTS COMPLETE</th>\n",
       "      <th>PAYMENT DATE</th>\n",
       "      <th>CONDITIONAL APPROVAL</th>\n",
       "      <th>LICENSE TERM START DATE</th>\n",
       "      <th>LICENSE TERM EXPIRATION DATE</th>\n",
       "      <th>LICENSE APPROVED FOR ISSUANCE</th>\n",
       "      <th>DATE ISSUED</th>\n",
       "      <th>LICENSE STATUS</th>\n",
       "      <th>LICENSE STATUS CHANGE DATE</th>\n",
       "      <th>SSA</th>\n",
       "      <th>LATITUDE</th>\n",
       "      <th>LONGITUDE</th>\n",
       "      <th>LOCATION</th>\n",
       "      <th>geometry</th>\n",
       "      <th>business_id</th>\n",
       "    </tr>\n",
       "  </thead>\n",
       "  <tbody>\n",
       "    <tr>\n",
       "      <th>349021</th>\n",
       "      <td>38186-19950216</td>\n",
       "      <td>177127</td>\n",
       "      <td>15572</td>\n",
       "      <td>1</td>\n",
       "      <td>ANTHONY &amp; SANDRA BALLENGER</td>\n",
       "      <td>ROCK ANTHONY'S BEAUTY SUPPLY</td>\n",
       "      <td>5359 W MADISON ST</td>\n",
       "      <td>CHICAGO</td>\n",
       "      <td>IL</td>\n",
       "      <td>60644</td>\n",
       "      <td>29</td>\n",
       "      <td>10</td>\n",
       "      <td>29-10</td>\n",
       "      <td>15</td>\n",
       "      <td>1010</td>\n",
       "      <td>Limited Business License</td>\n",
       "      <td>NaN</td>\n",
       "      <td>NaN</td>\n",
       "      <td>38186</td>\n",
       "      <td>ISSUE</td>\n",
       "      <td>NaT</td>\n",
       "      <td>2000-06-20</td>\n",
       "      <td>NaT</td>\n",
       "      <td>N</td>\n",
       "      <td>1995-02-16</td>\n",
       "      <td>1996-02-15</td>\n",
       "      <td>2003-12-22</td>\n",
       "      <td>2006-04-12</td>\n",
       "      <td>AAI</td>\n",
       "      <td>NaT</td>\n",
       "      <td>NaN</td>\n",
       "      <td>41.880203</td>\n",
       "      <td>-87.759784</td>\n",
       "      <td>(41.88020253400151, -87.75978400378037)</td>\n",
       "      <td>POINT (-87.759784004 41.880202534)</td>\n",
       "      <td>15572-1</td>\n",
       "    </tr>\n",
       "    <tr>\n",
       "      <th>135168</th>\n",
       "      <td>31386-19950216</td>\n",
       "      <td>145611</td>\n",
       "      <td>31848</td>\n",
       "      <td>1</td>\n",
       "      <td>GALGANO RECORDS</td>\n",
       "      <td>GALGANO RECORDS</td>\n",
       "      <td>2015 W IRVING PARK RD</td>\n",
       "      <td>CHICAGO</td>\n",
       "      <td>IL</td>\n",
       "      <td>60618</td>\n",
       "      <td>47</td>\n",
       "      <td>29</td>\n",
       "      <td>47-29</td>\n",
       "      <td>19</td>\n",
       "      <td>1010</td>\n",
       "      <td>Limited Business License</td>\n",
       "      <td>NaN</td>\n",
       "      <td>NaN</td>\n",
       "      <td>31386</td>\n",
       "      <td>ISSUE</td>\n",
       "      <td>NaT</td>\n",
       "      <td>2000-06-20</td>\n",
       "      <td>NaT</td>\n",
       "      <td>N</td>\n",
       "      <td>1995-02-16</td>\n",
       "      <td>1996-02-15</td>\n",
       "      <td>2003-12-22</td>\n",
       "      <td>2006-04-12</td>\n",
       "      <td>AAI</td>\n",
       "      <td>NaT</td>\n",
       "      <td>38</td>\n",
       "      <td>41.954036</td>\n",
       "      <td>-87.679506</td>\n",
       "      <td>(41.95403596563116, -87.6795064784822)</td>\n",
       "      <td>POINT (-87.67950647799999 41.954035966)</td>\n",
       "      <td>31848-1</td>\n",
       "    </tr>\n",
       "    <tr>\n",
       "      <th>680943</th>\n",
       "      <td>37719-19950216</td>\n",
       "      <td>174995</td>\n",
       "      <td>15469</td>\n",
       "      <td>1</td>\n",
       "      <td>UNIVERSAL AUTOMOTIVE INC</td>\n",
       "      <td>UNIVERSAL AUTOMOTIVE INC</td>\n",
       "      <td>2542 S WESTERN AVE 1ST</td>\n",
       "      <td>CHICAGO</td>\n",
       "      <td>IL</td>\n",
       "      <td>60608</td>\n",
       "      <td>25</td>\n",
       "      <td>5</td>\n",
       "      <td>25-5</td>\n",
       "      <td>10</td>\n",
       "      <td>1010</td>\n",
       "      <td>Limited Business License</td>\n",
       "      <td>NaN</td>\n",
       "      <td>NaN</td>\n",
       "      <td>37719</td>\n",
       "      <td>ISSUE</td>\n",
       "      <td>NaT</td>\n",
       "      <td>2000-06-20</td>\n",
       "      <td>NaT</td>\n",
       "      <td>N</td>\n",
       "      <td>1995-02-16</td>\n",
       "      <td>1996-02-15</td>\n",
       "      <td>2003-12-22</td>\n",
       "      <td>2006-04-12</td>\n",
       "      <td>AAI</td>\n",
       "      <td>NaT</td>\n",
       "      <td>NaN</td>\n",
       "      <td>41.845358</td>\n",
       "      <td>-87.685608</td>\n",
       "      <td>(41.845357760799374, -87.68560845692359)</td>\n",
       "      <td>POINT (-87.685608457 41.845357761)</td>\n",
       "      <td>15469-1</td>\n",
       "    </tr>\n",
       "    <tr>\n",
       "      <th>194572</th>\n",
       "      <td>24896-19950216</td>\n",
       "      <td>115610</td>\n",
       "      <td>30163</td>\n",
       "      <td>1</td>\n",
       "      <td>SERBIA TOURS INC</td>\n",
       "      <td>SERBIA TOURS INC</td>\n",
       "      <td>4056 W LAWRENCE AVE 1ST</td>\n",
       "      <td>CHICAGO</td>\n",
       "      <td>IL</td>\n",
       "      <td>60630</td>\n",
       "      <td>39</td>\n",
       "      <td>8</td>\n",
       "      <td>39-8</td>\n",
       "      <td>17</td>\n",
       "      <td>1133</td>\n",
       "      <td>Broker</td>\n",
       "      <td>NaN</td>\n",
       "      <td>NaN</td>\n",
       "      <td>24896</td>\n",
       "      <td>ISSUE</td>\n",
       "      <td>NaT</td>\n",
       "      <td>2000-06-20</td>\n",
       "      <td>NaT</td>\n",
       "      <td>N</td>\n",
       "      <td>1995-02-16</td>\n",
       "      <td>1996-02-15</td>\n",
       "      <td>2003-12-22</td>\n",
       "      <td>2006-04-12</td>\n",
       "      <td>AAI</td>\n",
       "      <td>NaT</td>\n",
       "      <td>NaN</td>\n",
       "      <td>41.968327</td>\n",
       "      <td>-87.730341</td>\n",
       "      <td>(41.96832692907906, -87.7303413599419)</td>\n",
       "      <td>POINT (-87.73034136 41.968326929)</td>\n",
       "      <td>30163-1</td>\n",
       "    </tr>\n",
       "    <tr>\n",
       "      <th>527063</th>\n",
       "      <td>33736-19950216</td>\n",
       "      <td>156504</td>\n",
       "      <td>32448</td>\n",
       "      <td>1</td>\n",
       "      <td>CONSUMER MORTAGE OF AMERICA IN</td>\n",
       "      <td>CONSUMER MORTGAGE OF AMERICA</td>\n",
       "      <td>2804 W BELMONT AVE</td>\n",
       "      <td>CHICAGO</td>\n",
       "      <td>IL</td>\n",
       "      <td>60618</td>\n",
       "      <td>33</td>\n",
       "      <td>2</td>\n",
       "      <td>33-2</td>\n",
       "      <td>17</td>\n",
       "      <td>1010</td>\n",
       "      <td>Limited Business License</td>\n",
       "      <td>NaN</td>\n",
       "      <td>NaN</td>\n",
       "      <td>33736</td>\n",
       "      <td>ISSUE</td>\n",
       "      <td>NaT</td>\n",
       "      <td>2000-06-20</td>\n",
       "      <td>NaT</td>\n",
       "      <td>N</td>\n",
       "      <td>1995-02-16</td>\n",
       "      <td>1996-02-15</td>\n",
       "      <td>2003-12-22</td>\n",
       "      <td>2006-04-12</td>\n",
       "      <td>AAI</td>\n",
       "      <td>NaT</td>\n",
       "      <td>NaN</td>\n",
       "      <td>41.939501</td>\n",
       "      <td>-87.698149</td>\n",
       "      <td>(41.93950090239686, -87.6981489851435)</td>\n",
       "      <td>POINT (-87.698148985 41.939500902)</td>\n",
       "      <td>32448-1</td>\n",
       "    </tr>\n",
       "  </tbody>\n",
       "</table>\n",
       "</div>"
      ],
      "text/plain": [
       "                    ID LICENSE ID ACCOUNT NUMBER  SITE NUMBER  \\\n",
       "349021  38186-19950216     177127          15572            1   \n",
       "135168  31386-19950216     145611          31848            1   \n",
       "680943  37719-19950216     174995          15469            1   \n",
       "194572  24896-19950216     115610          30163            1   \n",
       "527063  33736-19950216     156504          32448            1   \n",
       "\n",
       "                            LEGAL NAME        DOING BUSINESS AS NAME  \\\n",
       "349021      ANTHONY & SANDRA BALLENGER  ROCK ANTHONY'S BEAUTY SUPPLY   \n",
       "135168                 GALGANO RECORDS               GALGANO RECORDS   \n",
       "680943        UNIVERSAL AUTOMOTIVE INC      UNIVERSAL AUTOMOTIVE INC   \n",
       "194572                SERBIA TOURS INC              SERBIA TOURS INC   \n",
       "527063  CONSUMER MORTAGE OF AMERICA IN  CONSUMER MORTGAGE OF AMERICA   \n",
       "\n",
       "                        ADDRESS     CITY STATE ZIP CODE WARD PRECINCT  \\\n",
       "349021        5359 W MADISON ST  CHICAGO    IL    60644   29       10   \n",
       "135168    2015 W IRVING PARK RD  CHICAGO    IL    60618   47       29   \n",
       "680943   2542 S WESTERN AVE 1ST  CHICAGO    IL    60608   25        5   \n",
       "194572  4056 W LAWRENCE AVE 1ST  CHICAGO    IL    60630   39        8   \n",
       "527063       2804 W BELMONT AVE  CHICAGO    IL    60618   33        2   \n",
       "\n",
       "       WARD PRECINCT POLICE DISTRICT LICENSE CODE       LICENSE DESCRIPTION  \\\n",
       "349021         29-10              15         1010  Limited Business License   \n",
       "135168         47-29              19         1010  Limited Business License   \n",
       "680943          25-5              10         1010  Limited Business License   \n",
       "194572          39-8              17         1133                    Broker   \n",
       "527063          33-2              17         1010  Limited Business License   \n",
       "\n",
       "       BUSINESS ACTIVITY ID BUSINESS ACTIVITY LICENSE NUMBER APPLICATION TYPE  \\\n",
       "349021                  NaN               NaN          38186            ISSUE   \n",
       "135168                  NaN               NaN          31386            ISSUE   \n",
       "680943                  NaN               NaN          37719            ISSUE   \n",
       "194572                  NaN               NaN          24896            ISSUE   \n",
       "527063                  NaN               NaN          33736            ISSUE   \n",
       "\n",
       "       APPLICATION CREATED DATE APPLICATION REQUIREMENTS COMPLETE  \\\n",
       "349021                      NaT                        2000-06-20   \n",
       "135168                      NaT                        2000-06-20   \n",
       "680943                      NaT                        2000-06-20   \n",
       "194572                      NaT                        2000-06-20   \n",
       "527063                      NaT                        2000-06-20   \n",
       "\n",
       "       PAYMENT DATE CONDITIONAL APPROVAL LICENSE TERM START DATE  \\\n",
       "349021          NaT                    N              1995-02-16   \n",
       "135168          NaT                    N              1995-02-16   \n",
       "680943          NaT                    N              1995-02-16   \n",
       "194572          NaT                    N              1995-02-16   \n",
       "527063          NaT                    N              1995-02-16   \n",
       "\n",
       "       LICENSE TERM EXPIRATION DATE LICENSE APPROVED FOR ISSUANCE DATE ISSUED  \\\n",
       "349021                   1996-02-15                    2003-12-22  2006-04-12   \n",
       "135168                   1996-02-15                    2003-12-22  2006-04-12   \n",
       "680943                   1996-02-15                    2003-12-22  2006-04-12   \n",
       "194572                   1996-02-15                    2003-12-22  2006-04-12   \n",
       "527063                   1996-02-15                    2003-12-22  2006-04-12   \n",
       "\n",
       "       LICENSE STATUS LICENSE STATUS CHANGE DATE  SSA   LATITUDE  LONGITUDE  \\\n",
       "349021            AAI                        NaT  NaN  41.880203 -87.759784   \n",
       "135168            AAI                        NaT   38  41.954036 -87.679506   \n",
       "680943            AAI                        NaT  NaN  41.845358 -87.685608   \n",
       "194572            AAI                        NaT  NaN  41.968327 -87.730341   \n",
       "527063            AAI                        NaT  NaN  41.939501 -87.698149   \n",
       "\n",
       "                                        LOCATION  \\\n",
       "349021   (41.88020253400151, -87.75978400378037)   \n",
       "135168    (41.95403596563116, -87.6795064784822)   \n",
       "680943  (41.845357760799374, -87.68560845692359)   \n",
       "194572    (41.96832692907906, -87.7303413599419)   \n",
       "527063    (41.93950090239686, -87.6981489851435)   \n",
       "\n",
       "                                       geometry business_id  \n",
       "349021       POINT (-87.759784004 41.880202534)     15572-1  \n",
       "135168  POINT (-87.67950647799999 41.954035966)     31848-1  \n",
       "680943       POINT (-87.685608457 41.845357761)     15469-1  \n",
       "194572        POINT (-87.73034136 41.968326929)     30163-1  \n",
       "527063       POINT (-87.698148985 41.939500902)     32448-1  "
      ]
     },
     "execution_count": 257,
     "metadata": {},
     "output_type": "execute_result"
    }
   ],
   "source": [
    "lcs.head()"
   ]
  },
  {
   "cell_type": "markdown",
   "metadata": {},
   "source": [
    "# Link data\n",
    "\n",
    "to be done together"
   ]
  },
  {
   "cell_type": "markdown",
   "metadata": {},
   "source": [
    "# Train test split"
   ]
  },
  {
   "cell_type": "code",
   "execution_count": 258,
   "metadata": {},
   "outputs": [],
   "source": [
    "pipeline = pp.Pipeline()\n",
    "pipeline.load_clean_data(lcs)"
   ]
  },
  {
   "cell_type": "code",
   "execution_count": 259,
   "metadata": {},
   "outputs": [
    {
     "name": "stdout",
     "output_type": "stream",
     "text": [
      "N = 0\n",
      "TRAIN: START 1995-02-16 00:00:00 END 1997-02-15 00:00:00\n",
      "TEST: START 1999-02-16 00:00:00 END 2001-02-15 00:00:00\n",
      "\n",
      "N = 1\n",
      "TRAIN: START 1995-02-16 00:00:00 END 1999-02-15 00:00:00\n",
      "TEST: START 2001-02-16 00:00:00 END 2003-02-15 00:00:00\n",
      "\n",
      "N = 2\n",
      "TRAIN: START 1995-02-16 00:00:00 END 2001-02-15 00:00:00\n",
      "TEST: START 2003-02-16 00:00:00 END 2005-02-15 00:00:00\n",
      "\n",
      "N = 3\n",
      "TRAIN: START 1995-02-16 00:00:00 END 2003-02-15 00:00:00\n",
      "TEST: START 2005-02-16 00:00:00 END 2007-02-15 00:00:00\n",
      "\n",
      "N = 4\n",
      "TRAIN: START 1995-02-16 00:00:00 END 2005-02-15 00:00:00\n",
      "TEST: START 2007-02-16 00:00:00 END 2009-02-15 00:00:00\n",
      "\n",
      "N = 5\n",
      "TRAIN: START 1995-02-16 00:00:00 END 2007-02-15 00:00:00\n",
      "TEST: START 2009-02-16 00:00:00 END 2011-02-15 00:00:00\n",
      "\n",
      "N = 6\n",
      "TRAIN: START 1995-02-16 00:00:00 END 2009-02-15 00:00:00\n",
      "TEST: START 2011-02-16 00:00:00 END 2013-02-15 00:00:00\n",
      "\n",
      "N = 7\n",
      "TRAIN: START 1995-02-16 00:00:00 END 2011-02-15 00:00:00\n",
      "TEST: START 2013-02-16 00:00:00 END 2015-02-15 00:00:00\n",
      "\n",
      "N = 8\n",
      "TRAIN: START 1995-02-16 00:00:00 END 2013-02-15 00:00:00\n",
      "TEST: START 2015-02-16 00:00:00 END 2017-02-15 00:00:00\n",
      "\n"
     ]
    }
   ],
   "source": [
    "start = parser.parse('1995-02-16') # earliest lic start date in original data\n",
    "end = parser.parse('2020-07-16') # latest lic start date in original data\n",
    "pipeline.get_train_test_times(start, end, 2, 2)\n",
    "\n",
    "for i, (train_start, train_end, test_start, test_end) in enumerate(pipeline.train_test_times):\n",
    "    print('N = {}'.format(i))\n",
    "    print('TRAIN: START {} END {}'.format(train_start, train_end))\n",
    "    print('TEST: START {} END {}\\n'.format(test_start, test_end))"
   ]
  },
  {
   "cell_type": "markdown",
   "metadata": {},
   "source": [
    "# For 1 Split: (example)"
   ]
  },
  {
   "cell_type": "code",
   "execution_count": 407,
   "metadata": {},
   "outputs": [],
   "source": [
    "# example\n",
    "time_col = SDT\n",
    "train_start, train_end, test_start, test_end = pipeline.train_test_times[3]"
   ]
  },
  {
   "cell_type": "code",
   "execution_count": 408,
   "metadata": {},
   "outputs": [],
   "source": [
    "train_df = lcs[(lcs[time_col] >= train_start) & (lcs[time_col] <= train_end)]\n",
    "test_df = lcs[(lcs[time_col] >= test_start) & (lcs[time_col] <= test_end)]"
   ]
  },
  {
   "cell_type": "markdown",
   "metadata": {},
   "source": [
    "## Before generating outcome: get latest license and other info\n",
    "\n",
    "For each business:\n",
    "1. Identify if business has applied for special type licenses in the 2-year period\n",
    "2. Get the total number of licenses applied \n",
    "3. Get the latest license (latest start date)"
   ]
  },
  {
   "cell_type": "code",
   "execution_count": 406,
   "metadata": {},
   "outputs": [],
   "source": [
    "def get_special_apptypes_by_business(df):\n",
    "    '''get dummies for whether business has applied for non-issuance/renewal licenses\n",
    "    within the period'''\n",
    "    app_type_dummies = pd.get_dummies(df['APPLICATION TYPE'], prefix='applied_for_type')\n",
    "    other_app_type_dummies = app_type_dummies[['applied_for_type_C_CAPA', \n",
    "                                               'applied_for_type_C_EXPA',\n",
    "                                               'applied_for_type_C_LOC']]\n",
    "    temp = pd.concat([df, other_app_type_dummies], axis=1)\n",
    "    other_type_by_bus = temp.groupby('business_id').agg(\n",
    "                                    {'applied_for_type_C_CAPA': 'sum', \n",
    "                                     'applied_for_type_C_EXPA': 'sum',\n",
    "                                     'applied_for_type_C_LOC': 'sum'}).reset_index()\n",
    "    return other_type_by_bus"
   ]
  },
  {
   "cell_type": "code",
   "execution_count": 381,
   "metadata": {},
   "outputs": [],
   "source": [
    "def get_num_licenses_applied(df):\n",
    "    return df.groupby('business_id').size().reset_index().rename(columns={0: 'num_licenses'})"
   ]
  },
  {
   "cell_type": "code",
   "execution_count": 382,
   "metadata": {},
   "outputs": [],
   "source": [
    "def get_latest_license(df):\n",
    "    other_type_by_bus = get_special_apptypes_by_business(df)\n",
    "    num_licenses = get_num_licenses_applied(df)\n",
    "    latest = df[df['APPLICATION TYPE'].isin(['RENEW','ISSUE'])] \\\n",
    "               .groupby('business_id') \\\n",
    "               .tail(1) \\\n",
    "               .merge(other_type_by_bus, on='business_id') \\\n",
    "               .merge(num_licenses, on='business_id')\n",
    "    return latest"
   ]
  },
  {
   "cell_type": "code",
   "execution_count": 409,
   "metadata": {},
   "outputs": [],
   "source": [
    "# get latest renew/issue license for each business\n",
    "train_latest = get_latest_license(train_df)\n",
    "test_latest = get_latest_license(test_df)"
   ]
  },
  {
   "cell_type": "markdown",
   "metadata": {},
   "source": [
    "## Generate outcome"
   ]
  },
  {
   "cell_type": "code",
   "execution_count": 385,
   "metadata": {},
   "outputs": [],
   "source": [
    "def generate_label(latest, set_end):\n",
    "    # initialize outcome column\n",
    "    latest.loc[:,'closed'] = 0\n",
    "    # label = 1 if latest license expires before our training end date\n",
    "    # we are assuming a business is continuing to exist if the latest license expires \n",
    "    # on our train/test end date\n",
    "    latest.loc[latest[EDT] < set_end, 'closed'] = 1    \n",
    "    # label = 1 if latest license expires after train/test end date but are not approved\n",
    "    latest.loc[(latest[EDT] >= set_end) & (latest['LICENSE STATUS'] != 'AAI'), 'closed'] = 1"
   ]
  },
  {
   "cell_type": "code",
   "execution_count": 410,
   "metadata": {},
   "outputs": [],
   "source": [
    "# generate label\n",
    "generate_label(train_latest, train_end)\n",
    "generate_label(test_latest, test_end)"
   ]
  },
  {
   "cell_type": "code",
   "execution_count": 411,
   "metadata": {
    "scrolled": true
   },
   "outputs": [
    {
     "data": {
      "text/plain": [
       "closed\n",
       "0    56221\n",
       "1     6081\n",
       "dtype: int64"
      ]
     },
     "execution_count": 411,
     "metadata": {},
     "output_type": "execute_result"
    }
   ],
   "source": [
    "train_latest.groupby('closed').size()"
   ]
  },
  {
   "cell_type": "code",
   "execution_count": 412,
   "metadata": {
    "scrolled": false
   },
   "outputs": [
    {
     "data": {
      "text/plain": [
       "closed\n",
       "0    57078\n",
       "1    14674\n",
       "dtype: int64"
      ]
     },
     "execution_count": 412,
     "metadata": {},
     "output_type": "execute_result"
    }
   ],
   "source": [
    "test_latest.groupby('closed').size()"
   ]
  },
  {
   "cell_type": "markdown",
   "metadata": {},
   "source": [
    "## Get X_train, y_train, X_test, y_test"
   ]
  },
  {
   "cell_type": "code",
   "execution_count": 390,
   "metadata": {},
   "outputs": [],
   "source": [
    "def split_Xy(train, test, predictor_cols, label):\n",
    "    X_train = train[predictor_cols]\n",
    "    y_train = train[label]\n",
    "    X_test = test[predictor_cols]\n",
    "    y_test = test[label]\n",
    "    return X_train, y_train, X_test, y_test"
   ]
  },
  {
   "cell_type": "code",
   "execution_count": 416,
   "metadata": {},
   "outputs": [],
   "source": [
    "label = 'closed'\n",
    "predictor_cols = ['ZIP CODE', 'WARD', 'PRECINCT', 'WARD PRECINCT', \n",
    "                  'POLICE DISTRICT', 'LICENSE CODE', 'BUSINESS ACTIVITY ID',\n",
    "                  'APPLICATION TYPE', 'APPLICATION CREATED DATE', \n",
    "                  'APPLICATION REQUIREMENTS COMPLETE', \n",
    "                  'PAYMENT DATE', 'CONDITIONAL APPROVAL', \n",
    "                  'LICENSE TERM START DATE', 'LICENSE TERM EXPIRATION DATE', \n",
    "                  'LICENSE APPROVED FOR ISSUANCE', 'DATE ISSUED', \n",
    "                  'LICENSE STATUS', 'LICENSE STATUS CHANGE DATE', \n",
    "                  'SSA', 'LATITUDE', 'LONGITUDE', 'geometry', 'applied_for_type_C_CAPA', \n",
    "                  'applied_for_type_C_EXPA', 'applied_for_type_C_LOC', 'num_licenses']"
   ]
  },
  {
   "cell_type": "code",
   "execution_count": 417,
   "metadata": {},
   "outputs": [],
   "source": [
    "X_train, y_train, X_test, y_test = split_Xy(train_latest, test_latest, predictor_cols, label)"
   ]
  },
  {
   "cell_type": "markdown",
   "metadata": {},
   "source": [
    "# Feature Engineering"
   ]
  },
  {
   "cell_type": "markdown",
   "metadata": {},
   "source": [
    "### 1. Application type\n",
    "no change"
   ]
  },
  {
   "cell_type": "markdown",
   "metadata": {},
   "source": [
    "### 2. **Business Activity\n",
    "\n",
    "1. Impute using mode based on license type? \n",
    "2. One row could have multiple values -> special split"
   ]
  },
  {
   "cell_type": "markdown",
   "metadata": {},
   "source": [
    "#### Imputation"
   ]
  },
  {
   "cell_type": "code",
   "execution_count": 452,
   "metadata": {},
   "outputs": [
    {
     "data": {
      "text/plain": [
       "APPLICATION TYPE     \n",
       "ISSUE             775    1072\n",
       "                  763     295\n",
       "                  720     119\n",
       "                  638      48\n",
       "                  864      45\n",
       "                  624      41\n",
       "                  725      38\n",
       "                  704      28\n",
       "                  726      23\n",
       "                  653      23\n",
       "                  774      22\n",
       "                  666      20\n",
       "                  743      18\n",
       "                  829       8\n",
       "                  853       8\n",
       "                  630       7\n",
       "                  865       4\n",
       "                  732       3\n",
       "                  784       3\n",
       "                  868       2\n",
       "                  629       2\n",
       "                  785       1\n",
       "                  644       1\n",
       "                  794       1\n",
       "RENEW             775    5551\n",
       "                  638    1488\n",
       "                  829    1227\n",
       "                  763     965\n",
       "                  774     948\n",
       "                  864     735\n",
       "                  725     452\n",
       "                  666     132\n",
       "                  720     110\n",
       "                  624     102\n",
       "                  743     100\n",
       "                  785     100\n",
       "                  639      92\n",
       "                  704      90\n",
       "                  784      71\n",
       "                  653      66\n",
       "                  726      59\n",
       "                  732      42\n",
       "                  865      30\n",
       "                  630      21\n",
       "                  853      10\n",
       "                  868       9\n",
       "                  794       9\n",
       "                  644       4\n",
       "                  710       4\n",
       "                  629       1\n",
       "Name: BUSINESS ACTIVITY ID, dtype: int64"
      ]
     },
     "execution_count": 452,
     "metadata": {},
     "output_type": "execute_result"
    }
   ],
   "source": [
    "X_train.groupby('APPLICATION TYPE')['BUSINESS ACTIVITY ID'].apply(lambda x: x.value_counts())"
   ]
  },
  {
   "cell_type": "code",
   "execution_count": 431,
   "metadata": {},
   "outputs": [
    {
     "ename": "ValueError",
     "evalue": "mode is an unknown string function",
     "output_type": "error",
     "traceback": [
      "\u001b[0;31m---------------------------------------------------------------------------\u001b[0m",
      "\u001b[0;31mValueError\u001b[0m                                Traceback (most recent call last)",
      "\u001b[0;32m<ipython-input-431-78be2dbb6276>\u001b[0m in \u001b[0;36m<module>\u001b[0;34m\u001b[0m\n\u001b[1;32m      1\u001b[0m \u001b[0;31m# fill NA with mode ~ license\u001b[0m\u001b[0;34m\u001b[0m\u001b[0;34m\u001b[0m\u001b[0;34m\u001b[0m\u001b[0m\n\u001b[0;32m----> 2\u001b[0;31m \u001b[0mX_train\u001b[0m\u001b[0;34m[\u001b[0m\u001b[0;34m'BUSINESS ACTIVITY ID'\u001b[0m\u001b[0;34m]\u001b[0m\u001b[0;34m.\u001b[0m\u001b[0mfillna\u001b[0m\u001b[0;34m(\u001b[0m\u001b[0mX_train\u001b[0m\u001b[0;34m.\u001b[0m\u001b[0mgroupby\u001b[0m\u001b[0;34m(\u001b[0m\u001b[0;34m'APPLICATION TYPE'\u001b[0m\u001b[0;34m)\u001b[0m\u001b[0;34m.\u001b[0m\u001b[0magg\u001b[0m\u001b[0;34m(\u001b[0m\u001b[0;34m'mode'\u001b[0m\u001b[0;34m)\u001b[0m\u001b[0;34m)\u001b[0m\u001b[0;34m\u001b[0m\u001b[0;34m\u001b[0m\u001b[0m\n\u001b[0m",
      "\u001b[0;32m/usr/local/anaconda3/envs/mlpp/lib/python3.7/site-packages/pandas/core/groupby/generic.py\u001b[0m in \u001b[0;36maggregate\u001b[0;34m(self, arg, *args, **kwargs)\u001b[0m\n\u001b[1;32m   1313\u001b[0m     \u001b[0;34m@\u001b[0m\u001b[0mAppender\u001b[0m\u001b[0;34m(\u001b[0m\u001b[0m_shared_docs\u001b[0m\u001b[0;34m[\u001b[0m\u001b[0;34m'aggregate'\u001b[0m\u001b[0;34m]\u001b[0m\u001b[0;34m)\u001b[0m\u001b[0;34m\u001b[0m\u001b[0;34m\u001b[0m\u001b[0m\n\u001b[1;32m   1314\u001b[0m     \u001b[0;32mdef\u001b[0m \u001b[0maggregate\u001b[0m\u001b[0;34m(\u001b[0m\u001b[0mself\u001b[0m\u001b[0;34m,\u001b[0m \u001b[0marg\u001b[0m\u001b[0;34m,\u001b[0m \u001b[0;34m*\u001b[0m\u001b[0margs\u001b[0m\u001b[0;34m,\u001b[0m \u001b[0;34m**\u001b[0m\u001b[0mkwargs\u001b[0m\u001b[0;34m)\u001b[0m\u001b[0;34m:\u001b[0m\u001b[0;34m\u001b[0m\u001b[0;34m\u001b[0m\u001b[0m\n\u001b[0;32m-> 1315\u001b[0;31m         \u001b[0;32mreturn\u001b[0m \u001b[0msuper\u001b[0m\u001b[0;34m(\u001b[0m\u001b[0mDataFrameGroupBy\u001b[0m\u001b[0;34m,\u001b[0m \u001b[0mself\u001b[0m\u001b[0;34m)\u001b[0m\u001b[0;34m.\u001b[0m\u001b[0maggregate\u001b[0m\u001b[0;34m(\u001b[0m\u001b[0marg\u001b[0m\u001b[0;34m,\u001b[0m \u001b[0;34m*\u001b[0m\u001b[0margs\u001b[0m\u001b[0;34m,\u001b[0m \u001b[0;34m**\u001b[0m\u001b[0mkwargs\u001b[0m\u001b[0;34m)\u001b[0m\u001b[0;34m\u001b[0m\u001b[0;34m\u001b[0m\u001b[0m\n\u001b[0m\u001b[1;32m   1316\u001b[0m \u001b[0;34m\u001b[0m\u001b[0m\n\u001b[1;32m   1317\u001b[0m     \u001b[0magg\u001b[0m \u001b[0;34m=\u001b[0m \u001b[0maggregate\u001b[0m\u001b[0;34m\u001b[0m\u001b[0;34m\u001b[0m\u001b[0m\n",
      "\u001b[0;32m/usr/local/anaconda3/envs/mlpp/lib/python3.7/site-packages/pandas/core/groupby/generic.py\u001b[0m in \u001b[0;36maggregate\u001b[0;34m(self, arg, *args, **kwargs)\u001b[0m\n\u001b[1;32m    184\u001b[0m \u001b[0;34m\u001b[0m\u001b[0m\n\u001b[1;32m    185\u001b[0m         \u001b[0m_level\u001b[0m \u001b[0;34m=\u001b[0m \u001b[0mkwargs\u001b[0m\u001b[0;34m.\u001b[0m\u001b[0mpop\u001b[0m\u001b[0;34m(\u001b[0m\u001b[0;34m'_level'\u001b[0m\u001b[0;34m,\u001b[0m \u001b[0;32mNone\u001b[0m\u001b[0;34m)\u001b[0m\u001b[0;34m\u001b[0m\u001b[0;34m\u001b[0m\u001b[0m\n\u001b[0;32m--> 186\u001b[0;31m         \u001b[0mresult\u001b[0m\u001b[0;34m,\u001b[0m \u001b[0mhow\u001b[0m \u001b[0;34m=\u001b[0m \u001b[0mself\u001b[0m\u001b[0;34m.\u001b[0m\u001b[0m_aggregate\u001b[0m\u001b[0;34m(\u001b[0m\u001b[0marg\u001b[0m\u001b[0;34m,\u001b[0m \u001b[0m_level\u001b[0m\u001b[0;34m=\u001b[0m\u001b[0m_level\u001b[0m\u001b[0;34m,\u001b[0m \u001b[0;34m*\u001b[0m\u001b[0margs\u001b[0m\u001b[0;34m,\u001b[0m \u001b[0;34m**\u001b[0m\u001b[0mkwargs\u001b[0m\u001b[0;34m)\u001b[0m\u001b[0;34m\u001b[0m\u001b[0;34m\u001b[0m\u001b[0m\n\u001b[0m\u001b[1;32m    187\u001b[0m         \u001b[0;32mif\u001b[0m \u001b[0mhow\u001b[0m \u001b[0;32mis\u001b[0m \u001b[0;32mNone\u001b[0m\u001b[0;34m:\u001b[0m\u001b[0;34m\u001b[0m\u001b[0;34m\u001b[0m\u001b[0m\n\u001b[1;32m    188\u001b[0m             \u001b[0;32mreturn\u001b[0m \u001b[0mresult\u001b[0m\u001b[0;34m\u001b[0m\u001b[0;34m\u001b[0m\u001b[0m\n",
      "\u001b[0;32m/usr/local/anaconda3/envs/mlpp/lib/python3.7/site-packages/pandas/core/base.py\u001b[0m in \u001b[0;36m_aggregate\u001b[0;34m(self, arg, *args, **kwargs)\u001b[0m\n\u001b[1;32m    354\u001b[0m         \u001b[0;32mif\u001b[0m \u001b[0misinstance\u001b[0m\u001b[0;34m(\u001b[0m\u001b[0marg\u001b[0m\u001b[0;34m,\u001b[0m \u001b[0mcompat\u001b[0m\u001b[0;34m.\u001b[0m\u001b[0mstring_types\u001b[0m\u001b[0;34m)\u001b[0m\u001b[0;34m:\u001b[0m\u001b[0;34m\u001b[0m\u001b[0;34m\u001b[0m\u001b[0m\n\u001b[1;32m    355\u001b[0m             return self._try_aggregate_string_function(arg, *args,\n\u001b[0;32m--> 356\u001b[0;31m                                                        **kwargs), None\n\u001b[0m\u001b[1;32m    357\u001b[0m \u001b[0;34m\u001b[0m\u001b[0m\n\u001b[1;32m    358\u001b[0m         \u001b[0;32mif\u001b[0m \u001b[0misinstance\u001b[0m\u001b[0;34m(\u001b[0m\u001b[0marg\u001b[0m\u001b[0;34m,\u001b[0m \u001b[0mdict\u001b[0m\u001b[0;34m)\u001b[0m\u001b[0;34m:\u001b[0m\u001b[0;34m\u001b[0m\u001b[0;34m\u001b[0m\u001b[0m\n",
      "\u001b[0;32m/usr/local/anaconda3/envs/mlpp/lib/python3.7/site-packages/pandas/core/base.py\u001b[0m in \u001b[0;36m_try_aggregate_string_function\u001b[0;34m(self, arg, *args, **kwargs)\u001b[0m\n\u001b[1;32m    323\u001b[0m             \u001b[0;32mreturn\u001b[0m \u001b[0mf\u001b[0m\u001b[0;34m(\u001b[0m\u001b[0mself\u001b[0m\u001b[0;34m,\u001b[0m \u001b[0;34m*\u001b[0m\u001b[0margs\u001b[0m\u001b[0;34m,\u001b[0m \u001b[0;34m**\u001b[0m\u001b[0mkwargs\u001b[0m\u001b[0;34m)\u001b[0m\u001b[0;34m\u001b[0m\u001b[0;34m\u001b[0m\u001b[0m\n\u001b[1;32m    324\u001b[0m \u001b[0;34m\u001b[0m\u001b[0m\n\u001b[0;32m--> 325\u001b[0;31m         \u001b[0;32mraise\u001b[0m \u001b[0mValueError\u001b[0m\u001b[0;34m(\u001b[0m\u001b[0;34m\"{arg} is an unknown string function\"\u001b[0m\u001b[0;34m.\u001b[0m\u001b[0mformat\u001b[0m\u001b[0;34m(\u001b[0m\u001b[0marg\u001b[0m\u001b[0;34m=\u001b[0m\u001b[0marg\u001b[0m\u001b[0;34m)\u001b[0m\u001b[0;34m)\u001b[0m\u001b[0;34m\u001b[0m\u001b[0;34m\u001b[0m\u001b[0m\n\u001b[0m\u001b[1;32m    326\u001b[0m \u001b[0;34m\u001b[0m\u001b[0m\n\u001b[1;32m    327\u001b[0m     \u001b[0;32mdef\u001b[0m \u001b[0m_aggregate\u001b[0m\u001b[0;34m(\u001b[0m\u001b[0mself\u001b[0m\u001b[0;34m,\u001b[0m \u001b[0marg\u001b[0m\u001b[0;34m,\u001b[0m \u001b[0;34m*\u001b[0m\u001b[0margs\u001b[0m\u001b[0;34m,\u001b[0m \u001b[0;34m**\u001b[0m\u001b[0mkwargs\u001b[0m\u001b[0;34m)\u001b[0m\u001b[0;34m:\u001b[0m\u001b[0;34m\u001b[0m\u001b[0;34m\u001b[0m\u001b[0m\n",
      "\u001b[0;31mValueError\u001b[0m: mode is an unknown string function"
     ]
    }
   ],
   "source": [
    "# fill NA with mode ~ license\n",
    "X_train['BUSINESS ACTIVITY ID'].fillna(X_train.groupby('APPLICATION TYPE').agg('mode'))"
   ]
  },
  {
   "cell_type": "markdown",
   "metadata": {},
   "source": [
    "#### Splitting - special split b/c of multi-values for one row"
   ]
  },
  {
   "cell_type": "code",
   "execution_count": 94,
   "metadata": {},
   "outputs": [],
   "source": [
    "# special split\n",
    "ba_ids = X_train['BUSINESS ACTIVITY ID'].str.get_dummies(sep=' | ').iloc[:,:-1]"
   ]
  },
  {
   "cell_type": "code",
   "execution_count": 149,
   "metadata": {},
   "outputs": [],
   "source": [
    "all_ba_ids = ba_ids.sum().sort_values(ascending=False).apply(lambda x: x/len(lcs)).to_frame()\n",
    "top_ba_ids = all_ba_ids[all_ba_ids[0] > 0.005].index"
   ]
  },
  {
   "cell_type": "code",
   "execution_count": 151,
   "metadata": {},
   "outputs": [],
   "source": [
    "# # take top 30% \n",
    "# pct_sum = 0\n",
    "# top_ba_ids = []\n",
    "# for i, row in ba_ids.iterrows():\n",
    "#     if row[0] + pct_sum > 0.3:\n",
    "#         break\n",
    "#     pct_sum += row[0]\n",
    "#     top_ba_ids.append(i)"
   ]
  },
  {
   "cell_type": "code",
   "execution_count": 163,
   "metadata": {},
   "outputs": [
    {
     "data": {
      "text/plain": [
       "Retail Sales of Perishable Foods                                             126987\n",
       "Retail Sale of Tobacco                                                        39775\n",
       "Consumption of Liquor on Premises                                             29839\n",
       "Tavern - Consumption of Liquor on Premise                                     16557\n",
       "Retail Sales of Packaged Liquor                                               13843\n",
       "Special Event Food                                                             8838\n",
       "Wholesale Food Sales                                                           8690\n",
       "Home Repair Services                                                           7734\n",
       "Other Home Occupations                                                         7362\n",
       "Not-For-Profit Selling Raffles for Prizes of $50 or More                       6617\n",
       "Provide Parking Spaces For a Fee - Available and Advertised to the Public      6377\n",
       "Provides Onsite Amusement or Entertainment                                     5674\n",
       "Hair Services                                                                  5578\n",
       "Operation of a Fuel Filling Station                                            5497\n",
       "Preparation of Food and Dining on Premise With Seating                         5447\n",
       "Miscellaneous Commercial Services                                              5151\n",
       "Retail Sales of General Merchandise                                            3152\n",
       "Retail Sales of General Merchandise and Non-Perishable Food                    1310\n",
       "Name: BUSINESS ACTIVITY, dtype: int64"
      ]
     },
     "execution_count": 163,
     "metadata": {},
     "output_type": "execute_result"
    }
   ],
   "source": [
    "lcs[lcs['BUSINESS ACTIVITY ID'].isin(top_ba_ids)]['BUSINESS ACTIVITY'].value_counts()"
   ]
  },
  {
   "cell_type": "markdown",
   "metadata": {},
   "source": [
    "### 3. License Type"
   ]
  },
  {
   "cell_type": "code",
   "execution_count": 166,
   "metadata": {},
   "outputs": [],
   "source": [
    "# kept license types w/ > 1% counts\n",
    "all_license_codes = lcs['LICENSE CODE'].value_counts(normalize=True).to_frame()\n",
    "top_license_codes = all_license_codes[all_license_codes['LICENSE CODE'] > 0.01].index\n",
    "prep.keep_top_values(lcs, 'LICENSE CODE', top_license_codes)"
   ]
  },
  {
   "cell_type": "markdown",
   "metadata": {},
   "source": [
    "### 4. Number of Open Business in Locale (count of bus w/in two year periods)"
   ]
  }
 ],
 "metadata": {
  "kernelspec": {
   "display_name": "mlpp",
   "language": "python",
   "name": "other-env"
  },
  "language_info": {
   "codemirror_mode": {
    "name": "ipython",
    "version": 3
   },
   "file_extension": ".py",
   "mimetype": "text/x-python",
   "name": "python",
   "nbconvert_exporter": "python",
   "pygments_lexer": "ipython3",
   "version": "3.7.3"
  }
 },
 "nbformat": 4,
 "nbformat_minor": 2
}
